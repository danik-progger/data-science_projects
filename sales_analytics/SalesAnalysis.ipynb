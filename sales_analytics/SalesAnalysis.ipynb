{
 "cells": [
  {
   "cell_type": "markdown",
   "metadata": {},
   "source": [
    "# Sales Analysis"
   ]
  },
  {
   "cell_type": "markdown",
   "metadata": {},
   "source": [
    "#### Import necessary libraries"
   ]
  },
  {
   "cell_type": "code",
   "execution_count": 6,
   "metadata": {
    "ExecuteTime": {
     "end_time": "2023-11-30T05:43:31.803985721Z",
     "start_time": "2023-11-30T05:43:31.105694253Z"
    }
   },
   "outputs": [],
   "source": [
    "import os\n",
    "import pandas as pd"
   ]
  },
  {
   "cell_type": "markdown",
   "metadata": {},
   "source": [
    "#### Merge data from each month into one CSV"
   ]
  },
  {
   "cell_type": "code",
   "execution_count": 7,
   "metadata": {
    "ExecuteTime": {
     "end_time": "2023-11-30T05:43:34.291874908Z",
     "start_time": "2023-11-30T05:43:31.130969223Z"
    }
   },
   "outputs": [],
   "source": [
    "path = \"./Sales_Data\"\n",
    "files = [file for file in os.listdir(path) if not file.startswith('.')] # Ignore hidden files\n",
    "\n",
    "all_months_data = pd.DataFrame()\n",
    "\n",
    "for file in files:\n",
    "    current_data = pd.read_csv(path+\"/\"+file)\n",
    "    all_months_data = pd.concat([all_months_data, current_data])\n",
    "    \n",
    "all_months_data.to_csv(\"all_data_copy.csv\", index=False)\n",
    "    "
   ]
  },
  {
   "cell_type": "markdown",
   "metadata": {},
   "source": [
    "#### Read in updated dataframe"
   ]
  },
  {
   "cell_type": "code",
   "execution_count": 8,
   "metadata": {
    "ExecuteTime": {
     "end_time": "2023-11-30T05:43:35.404127526Z",
     "start_time": "2023-11-30T05:43:34.329709735Z"
    }
   },
   "outputs": [
    {
     "data": {
      "text/plain": "  Order ID                     Product Quantity Ordered Price Each  \\\n0   176558        USB-C Charging Cable                2      11.95   \n1      NaN                         NaN              NaN        NaN   \n2   176559  Bose SoundSport Headphones                1      99.99   \n3   176560                Google Phone                1        600   \n4   176560            Wired Headphones                1      11.99   \n\n       Order Date                      Purchase Address  \n0  04/19/19 08:46          917 1st St, Dallas, TX 75001  \n1             NaN                                   NaN  \n2  04/07/19 22:30     682 Chestnut St, Boston, MA 02215  \n3  04/12/19 14:38  669 Spruce St, Los Angeles, CA 90001  \n4  04/12/19 14:38  669 Spruce St, Los Angeles, CA 90001  ",
      "text/html": "<div>\n<style scoped>\n    .dataframe tbody tr th:only-of-type {\n        vertical-align: middle;\n    }\n\n    .dataframe tbody tr th {\n        vertical-align: top;\n    }\n\n    .dataframe thead th {\n        text-align: right;\n    }\n</style>\n<table border=\"1\" class=\"dataframe\">\n  <thead>\n    <tr style=\"text-align: right;\">\n      <th></th>\n      <th>Order ID</th>\n      <th>Product</th>\n      <th>Quantity Ordered</th>\n      <th>Price Each</th>\n      <th>Order Date</th>\n      <th>Purchase Address</th>\n    </tr>\n  </thead>\n  <tbody>\n    <tr>\n      <th>0</th>\n      <td>176558</td>\n      <td>USB-C Charging Cable</td>\n      <td>2</td>\n      <td>11.95</td>\n      <td>04/19/19 08:46</td>\n      <td>917 1st St, Dallas, TX 75001</td>\n    </tr>\n    <tr>\n      <th>1</th>\n      <td>NaN</td>\n      <td>NaN</td>\n      <td>NaN</td>\n      <td>NaN</td>\n      <td>NaN</td>\n      <td>NaN</td>\n    </tr>\n    <tr>\n      <th>2</th>\n      <td>176559</td>\n      <td>Bose SoundSport Headphones</td>\n      <td>1</td>\n      <td>99.99</td>\n      <td>04/07/19 22:30</td>\n      <td>682 Chestnut St, Boston, MA 02215</td>\n    </tr>\n    <tr>\n      <th>3</th>\n      <td>176560</td>\n      <td>Google Phone</td>\n      <td>1</td>\n      <td>600</td>\n      <td>04/12/19 14:38</td>\n      <td>669 Spruce St, Los Angeles, CA 90001</td>\n    </tr>\n    <tr>\n      <th>4</th>\n      <td>176560</td>\n      <td>Wired Headphones</td>\n      <td>1</td>\n      <td>11.99</td>\n      <td>04/12/19 14:38</td>\n      <td>669 Spruce St, Los Angeles, CA 90001</td>\n    </tr>\n  </tbody>\n</table>\n</div>"
     },
     "execution_count": 8,
     "metadata": {},
     "output_type": "execute_result"
    }
   ],
   "source": [
    "all_data = pd.read_csv(\"./Output/all_data.csv\")\n",
    "all_data.head()"
   ]
  },
  {
   "cell_type": "markdown",
   "metadata": {},
   "source": [
    "### Clean up the data!\n",
    "The first step in this is figuring out what we need to clean. I have found in practice, that you find things you need to clean as you perform operations and get errors. Based on the error, you decide how you should go about cleaning the data"
   ]
  },
  {
   "cell_type": "markdown",
   "metadata": {},
   "source": [
    "##### Drop rows of NAN"
   ]
  },
  {
   "cell_type": "code",
   "execution_count": 9,
   "metadata": {
    "ExecuteTime": {
     "end_time": "2023-11-30T05:43:35.932097283Z",
     "start_time": "2023-11-30T05:43:35.533293851Z"
    }
   },
   "outputs": [
    {
     "data": {
      "text/plain": "     Order ID Product Quantity Ordered Price Each Order Date Purchase Address\n1         NaN     NaN              NaN        NaN        NaN              NaN\n356       NaN     NaN              NaN        NaN        NaN              NaN\n735       NaN     NaN              NaN        NaN        NaN              NaN\n1433      NaN     NaN              NaN        NaN        NaN              NaN\n1553      NaN     NaN              NaN        NaN        NaN              NaN",
      "text/html": "<div>\n<style scoped>\n    .dataframe tbody tr th:only-of-type {\n        vertical-align: middle;\n    }\n\n    .dataframe tbody tr th {\n        vertical-align: top;\n    }\n\n    .dataframe thead th {\n        text-align: right;\n    }\n</style>\n<table border=\"1\" class=\"dataframe\">\n  <thead>\n    <tr style=\"text-align: right;\">\n      <th></th>\n      <th>Order ID</th>\n      <th>Product</th>\n      <th>Quantity Ordered</th>\n      <th>Price Each</th>\n      <th>Order Date</th>\n      <th>Purchase Address</th>\n    </tr>\n  </thead>\n  <tbody>\n    <tr>\n      <th>1</th>\n      <td>NaN</td>\n      <td>NaN</td>\n      <td>NaN</td>\n      <td>NaN</td>\n      <td>NaN</td>\n      <td>NaN</td>\n    </tr>\n    <tr>\n      <th>356</th>\n      <td>NaN</td>\n      <td>NaN</td>\n      <td>NaN</td>\n      <td>NaN</td>\n      <td>NaN</td>\n      <td>NaN</td>\n    </tr>\n    <tr>\n      <th>735</th>\n      <td>NaN</td>\n      <td>NaN</td>\n      <td>NaN</td>\n      <td>NaN</td>\n      <td>NaN</td>\n      <td>NaN</td>\n    </tr>\n    <tr>\n      <th>1433</th>\n      <td>NaN</td>\n      <td>NaN</td>\n      <td>NaN</td>\n      <td>NaN</td>\n      <td>NaN</td>\n      <td>NaN</td>\n    </tr>\n    <tr>\n      <th>1553</th>\n      <td>NaN</td>\n      <td>NaN</td>\n      <td>NaN</td>\n      <td>NaN</td>\n      <td>NaN</td>\n      <td>NaN</td>\n    </tr>\n  </tbody>\n</table>\n</div>"
     },
     "metadata": {},
     "output_type": "display_data"
    },
    {
     "data": {
      "text/plain": "  Order ID                     Product Quantity Ordered Price Each  \\\n0   176558        USB-C Charging Cable                2      11.95   \n2   176559  Bose SoundSport Headphones                1      99.99   \n3   176560                Google Phone                1        600   \n4   176560            Wired Headphones                1      11.99   \n5   176561            Wired Headphones                1      11.99   \n\n       Order Date                      Purchase Address  \n0  04/19/19 08:46          917 1st St, Dallas, TX 75001  \n2  04/07/19 22:30     682 Chestnut St, Boston, MA 02215  \n3  04/12/19 14:38  669 Spruce St, Los Angeles, CA 90001  \n4  04/12/19 14:38  669 Spruce St, Los Angeles, CA 90001  \n5  04/30/19 09:27     333 8th St, Los Angeles, CA 90001  ",
      "text/html": "<div>\n<style scoped>\n    .dataframe tbody tr th:only-of-type {\n        vertical-align: middle;\n    }\n\n    .dataframe tbody tr th {\n        vertical-align: top;\n    }\n\n    .dataframe thead th {\n        text-align: right;\n    }\n</style>\n<table border=\"1\" class=\"dataframe\">\n  <thead>\n    <tr style=\"text-align: right;\">\n      <th></th>\n      <th>Order ID</th>\n      <th>Product</th>\n      <th>Quantity Ordered</th>\n      <th>Price Each</th>\n      <th>Order Date</th>\n      <th>Purchase Address</th>\n    </tr>\n  </thead>\n  <tbody>\n    <tr>\n      <th>0</th>\n      <td>176558</td>\n      <td>USB-C Charging Cable</td>\n      <td>2</td>\n      <td>11.95</td>\n      <td>04/19/19 08:46</td>\n      <td>917 1st St, Dallas, TX 75001</td>\n    </tr>\n    <tr>\n      <th>2</th>\n      <td>176559</td>\n      <td>Bose SoundSport Headphones</td>\n      <td>1</td>\n      <td>99.99</td>\n      <td>04/07/19 22:30</td>\n      <td>682 Chestnut St, Boston, MA 02215</td>\n    </tr>\n    <tr>\n      <th>3</th>\n      <td>176560</td>\n      <td>Google Phone</td>\n      <td>1</td>\n      <td>600</td>\n      <td>04/12/19 14:38</td>\n      <td>669 Spruce St, Los Angeles, CA 90001</td>\n    </tr>\n    <tr>\n      <th>4</th>\n      <td>176560</td>\n      <td>Wired Headphones</td>\n      <td>1</td>\n      <td>11.99</td>\n      <td>04/12/19 14:38</td>\n      <td>669 Spruce St, Los Angeles, CA 90001</td>\n    </tr>\n    <tr>\n      <th>5</th>\n      <td>176561</td>\n      <td>Wired Headphones</td>\n      <td>1</td>\n      <td>11.99</td>\n      <td>04/30/19 09:27</td>\n      <td>333 8th St, Los Angeles, CA 90001</td>\n    </tr>\n  </tbody>\n</table>\n</div>"
     },
     "execution_count": 9,
     "metadata": {},
     "output_type": "execute_result"
    }
   ],
   "source": [
    "# Find NAN\n",
    "nan_df = all_data[all_data.isna().any(axis=1)]\n",
    "display(nan_df.head())\n",
    "\n",
    "all_data = all_data.dropna(how='all')\n",
    "all_data.head()"
   ]
  },
  {
   "cell_type": "markdown",
   "metadata": {},
   "source": [
    "##### Get rid of text in order date column"
   ]
  },
  {
   "cell_type": "code",
   "execution_count": 10,
   "metadata": {
    "ExecuteTime": {
     "end_time": "2023-11-30T05:43:36.349532401Z",
     "start_time": "2023-11-30T05:43:35.793822624Z"
    }
   },
   "outputs": [],
   "source": [
    "all_data = all_data[all_data['Order Date'].str[0:2]!='Or']"
   ]
  },
  {
   "cell_type": "markdown",
   "metadata": {},
   "source": [
    "#### Make columns correct type"
   ]
  },
  {
   "cell_type": "code",
   "execution_count": 11,
   "metadata": {
    "ExecuteTime": {
     "end_time": "2023-11-30T05:43:36.575010361Z",
     "start_time": "2023-11-30T05:43:36.066674878Z"
    }
   },
   "outputs": [],
   "source": [
    "all_data['Quantity Ordered'] = pd.to_numeric(all_data['Quantity Ordered'])\n",
    "all_data['Price Each'] = pd.to_numeric(all_data['Price Each'])"
   ]
  },
  {
   "cell_type": "markdown",
   "metadata": {},
   "source": [
    "### Augment data with additional columns"
   ]
  },
  {
   "cell_type": "markdown",
   "metadata": {},
   "source": [
    "#### Add month column"
   ]
  },
  {
   "cell_type": "code",
   "execution_count": 12,
   "metadata": {
    "ExecuteTime": {
     "end_time": "2023-11-30T05:43:36.806991772Z",
     "start_time": "2023-11-30T05:43:36.582960774Z"
    }
   },
   "outputs": [
    {
     "data": {
      "text/plain": "  Order ID                     Product  Quantity Ordered  Price Each  \\\n0   176558        USB-C Charging Cable                 2       11.95   \n2   176559  Bose SoundSport Headphones                 1       99.99   \n3   176560                Google Phone                 1      600.00   \n4   176560            Wired Headphones                 1       11.99   \n5   176561            Wired Headphones                 1       11.99   \n\n       Order Date                      Purchase Address  Month  \n0  04/19/19 08:46          917 1st St, Dallas, TX 75001      4  \n2  04/07/19 22:30     682 Chestnut St, Boston, MA 02215      4  \n3  04/12/19 14:38  669 Spruce St, Los Angeles, CA 90001      4  \n4  04/12/19 14:38  669 Spruce St, Los Angeles, CA 90001      4  \n5  04/30/19 09:27     333 8th St, Los Angeles, CA 90001      4  ",
      "text/html": "<div>\n<style scoped>\n    .dataframe tbody tr th:only-of-type {\n        vertical-align: middle;\n    }\n\n    .dataframe tbody tr th {\n        vertical-align: top;\n    }\n\n    .dataframe thead th {\n        text-align: right;\n    }\n</style>\n<table border=\"1\" class=\"dataframe\">\n  <thead>\n    <tr style=\"text-align: right;\">\n      <th></th>\n      <th>Order ID</th>\n      <th>Product</th>\n      <th>Quantity Ordered</th>\n      <th>Price Each</th>\n      <th>Order Date</th>\n      <th>Purchase Address</th>\n      <th>Month</th>\n    </tr>\n  </thead>\n  <tbody>\n    <tr>\n      <th>0</th>\n      <td>176558</td>\n      <td>USB-C Charging Cable</td>\n      <td>2</td>\n      <td>11.95</td>\n      <td>04/19/19 08:46</td>\n      <td>917 1st St, Dallas, TX 75001</td>\n      <td>4</td>\n    </tr>\n    <tr>\n      <th>2</th>\n      <td>176559</td>\n      <td>Bose SoundSport Headphones</td>\n      <td>1</td>\n      <td>99.99</td>\n      <td>04/07/19 22:30</td>\n      <td>682 Chestnut St, Boston, MA 02215</td>\n      <td>4</td>\n    </tr>\n    <tr>\n      <th>3</th>\n      <td>176560</td>\n      <td>Google Phone</td>\n      <td>1</td>\n      <td>600.00</td>\n      <td>04/12/19 14:38</td>\n      <td>669 Spruce St, Los Angeles, CA 90001</td>\n      <td>4</td>\n    </tr>\n    <tr>\n      <th>4</th>\n      <td>176560</td>\n      <td>Wired Headphones</td>\n      <td>1</td>\n      <td>11.99</td>\n      <td>04/12/19 14:38</td>\n      <td>669 Spruce St, Los Angeles, CA 90001</td>\n      <td>4</td>\n    </tr>\n    <tr>\n      <th>5</th>\n      <td>176561</td>\n      <td>Wired Headphones</td>\n      <td>1</td>\n      <td>11.99</td>\n      <td>04/30/19 09:27</td>\n      <td>333 8th St, Los Angeles, CA 90001</td>\n      <td>4</td>\n    </tr>\n  </tbody>\n</table>\n</div>"
     },
     "execution_count": 12,
     "metadata": {},
     "output_type": "execute_result"
    }
   ],
   "source": [
    "all_data['Month'] = all_data['Order Date'].str[0:2]\n",
    "all_data['Month'] = all_data['Month'].astype('int32')\n",
    "all_data.head()"
   ]
  },
  {
   "cell_type": "markdown",
   "metadata": {},
   "source": [
    "#### Add month column (alternative method)"
   ]
  },
  {
   "cell_type": "code",
   "execution_count": 13,
   "metadata": {
    "ExecuteTime": {
     "end_time": "2023-11-30T05:44:18.969293158Z",
     "start_time": "2023-11-30T05:43:36.779490925Z"
    }
   },
   "outputs": [
    {
     "name": "stderr",
     "output_type": "stream",
     "text": [
      "/tmp/ipykernel_108026/1345138467.py:1: UserWarning: Could not infer format, so each element will be parsed individually, falling back to `dateutil`. To ensure parsing is consistent and as-expected, please specify a format.\n",
      "  all_data['Month 2'] = pd.to_datetime(all_data['Order Date']).dt.month\n"
     ]
    },
    {
     "data": {
      "text/plain": "  Order ID                     Product  Quantity Ordered  Price Each  \\\n0   176558        USB-C Charging Cable                 2       11.95   \n2   176559  Bose SoundSport Headphones                 1       99.99   \n3   176560                Google Phone                 1      600.00   \n4   176560            Wired Headphones                 1       11.99   \n5   176561            Wired Headphones                 1       11.99   \n\n       Order Date                      Purchase Address  Month  Month 2  \n0  04/19/19 08:46          917 1st St, Dallas, TX 75001      4        4  \n2  04/07/19 22:30     682 Chestnut St, Boston, MA 02215      4        4  \n3  04/12/19 14:38  669 Spruce St, Los Angeles, CA 90001      4        4  \n4  04/12/19 14:38  669 Spruce St, Los Angeles, CA 90001      4        4  \n5  04/30/19 09:27     333 8th St, Los Angeles, CA 90001      4        4  ",
      "text/html": "<div>\n<style scoped>\n    .dataframe tbody tr th:only-of-type {\n        vertical-align: middle;\n    }\n\n    .dataframe tbody tr th {\n        vertical-align: top;\n    }\n\n    .dataframe thead th {\n        text-align: right;\n    }\n</style>\n<table border=\"1\" class=\"dataframe\">\n  <thead>\n    <tr style=\"text-align: right;\">\n      <th></th>\n      <th>Order ID</th>\n      <th>Product</th>\n      <th>Quantity Ordered</th>\n      <th>Price Each</th>\n      <th>Order Date</th>\n      <th>Purchase Address</th>\n      <th>Month</th>\n      <th>Month 2</th>\n    </tr>\n  </thead>\n  <tbody>\n    <tr>\n      <th>0</th>\n      <td>176558</td>\n      <td>USB-C Charging Cable</td>\n      <td>2</td>\n      <td>11.95</td>\n      <td>04/19/19 08:46</td>\n      <td>917 1st St, Dallas, TX 75001</td>\n      <td>4</td>\n      <td>4</td>\n    </tr>\n    <tr>\n      <th>2</th>\n      <td>176559</td>\n      <td>Bose SoundSport Headphones</td>\n      <td>1</td>\n      <td>99.99</td>\n      <td>04/07/19 22:30</td>\n      <td>682 Chestnut St, Boston, MA 02215</td>\n      <td>4</td>\n      <td>4</td>\n    </tr>\n    <tr>\n      <th>3</th>\n      <td>176560</td>\n      <td>Google Phone</td>\n      <td>1</td>\n      <td>600.00</td>\n      <td>04/12/19 14:38</td>\n      <td>669 Spruce St, Los Angeles, CA 90001</td>\n      <td>4</td>\n      <td>4</td>\n    </tr>\n    <tr>\n      <th>4</th>\n      <td>176560</td>\n      <td>Wired Headphones</td>\n      <td>1</td>\n      <td>11.99</td>\n      <td>04/12/19 14:38</td>\n      <td>669 Spruce St, Los Angeles, CA 90001</td>\n      <td>4</td>\n      <td>4</td>\n    </tr>\n    <tr>\n      <th>5</th>\n      <td>176561</td>\n      <td>Wired Headphones</td>\n      <td>1</td>\n      <td>11.99</td>\n      <td>04/30/19 09:27</td>\n      <td>333 8th St, Los Angeles, CA 90001</td>\n      <td>4</td>\n      <td>4</td>\n    </tr>\n  </tbody>\n</table>\n</div>"
     },
     "execution_count": 13,
     "metadata": {},
     "output_type": "execute_result"
    }
   ],
   "source": [
    "all_data['Month 2'] = pd.to_datetime(all_data['Order Date']).dt.month\n",
    "all_data.head()"
   ]
  },
  {
   "cell_type": "markdown",
   "metadata": {},
   "source": [
    "#### Add city column"
   ]
  },
  {
   "cell_type": "code",
   "execution_count": 14,
   "metadata": {
    "ExecuteTime": {
     "end_time": "2023-11-30T05:44:19.986960801Z",
     "start_time": "2023-11-30T05:44:18.974758302Z"
    }
   },
   "outputs": [
    {
     "data": {
      "text/plain": "  Order ID                     Product  Quantity Ordered  Price Each  \\\n0   176558        USB-C Charging Cable                 2       11.95   \n2   176559  Bose SoundSport Headphones                 1       99.99   \n3   176560                Google Phone                 1      600.00   \n4   176560            Wired Headphones                 1       11.99   \n5   176561            Wired Headphones                 1       11.99   \n\n       Order Date                      Purchase Address  Month  Month 2  \\\n0  04/19/19 08:46          917 1st St, Dallas, TX 75001      4        4   \n2  04/07/19 22:30     682 Chestnut St, Boston, MA 02215      4        4   \n3  04/12/19 14:38  669 Spruce St, Los Angeles, CA 90001      4        4   \n4  04/12/19 14:38  669 Spruce St, Los Angeles, CA 90001      4        4   \n5  04/30/19 09:27     333 8th St, Los Angeles, CA 90001      4        4   \n\n                City  \n0       Dallas  (TX)  \n2       Boston  (MA)  \n3  Los Angeles  (CA)  \n4  Los Angeles  (CA)  \n5  Los Angeles  (CA)  ",
      "text/html": "<div>\n<style scoped>\n    .dataframe tbody tr th:only-of-type {\n        vertical-align: middle;\n    }\n\n    .dataframe tbody tr th {\n        vertical-align: top;\n    }\n\n    .dataframe thead th {\n        text-align: right;\n    }\n</style>\n<table border=\"1\" class=\"dataframe\">\n  <thead>\n    <tr style=\"text-align: right;\">\n      <th></th>\n      <th>Order ID</th>\n      <th>Product</th>\n      <th>Quantity Ordered</th>\n      <th>Price Each</th>\n      <th>Order Date</th>\n      <th>Purchase Address</th>\n      <th>Month</th>\n      <th>Month 2</th>\n      <th>City</th>\n    </tr>\n  </thead>\n  <tbody>\n    <tr>\n      <th>0</th>\n      <td>176558</td>\n      <td>USB-C Charging Cable</td>\n      <td>2</td>\n      <td>11.95</td>\n      <td>04/19/19 08:46</td>\n      <td>917 1st St, Dallas, TX 75001</td>\n      <td>4</td>\n      <td>4</td>\n      <td>Dallas  (TX)</td>\n    </tr>\n    <tr>\n      <th>2</th>\n      <td>176559</td>\n      <td>Bose SoundSport Headphones</td>\n      <td>1</td>\n      <td>99.99</td>\n      <td>04/07/19 22:30</td>\n      <td>682 Chestnut St, Boston, MA 02215</td>\n      <td>4</td>\n      <td>4</td>\n      <td>Boston  (MA)</td>\n    </tr>\n    <tr>\n      <th>3</th>\n      <td>176560</td>\n      <td>Google Phone</td>\n      <td>1</td>\n      <td>600.00</td>\n      <td>04/12/19 14:38</td>\n      <td>669 Spruce St, Los Angeles, CA 90001</td>\n      <td>4</td>\n      <td>4</td>\n      <td>Los Angeles  (CA)</td>\n    </tr>\n    <tr>\n      <th>4</th>\n      <td>176560</td>\n      <td>Wired Headphones</td>\n      <td>1</td>\n      <td>11.99</td>\n      <td>04/12/19 14:38</td>\n      <td>669 Spruce St, Los Angeles, CA 90001</td>\n      <td>4</td>\n      <td>4</td>\n      <td>Los Angeles  (CA)</td>\n    </tr>\n    <tr>\n      <th>5</th>\n      <td>176561</td>\n      <td>Wired Headphones</td>\n      <td>1</td>\n      <td>11.99</td>\n      <td>04/30/19 09:27</td>\n      <td>333 8th St, Los Angeles, CA 90001</td>\n      <td>4</td>\n      <td>4</td>\n      <td>Los Angeles  (CA)</td>\n    </tr>\n  </tbody>\n</table>\n</div>"
     },
     "execution_count": 14,
     "metadata": {},
     "output_type": "execute_result"
    }
   ],
   "source": [
    "def get_city(address):\n",
    "    return address.split(\",\")[1].strip(\" \")\n",
    "\n",
    "def get_state(address):\n",
    "    return address.split(\",\")[2].split(\" \")[1]\n",
    "\n",
    "all_data['City'] = all_data['Purchase Address'].apply(lambda x: f\"{get_city(x)}  ({get_state(x)})\")\n",
    "all_data.head()"
   ]
  },
  {
   "cell_type": "markdown",
   "metadata": {},
   "source": [
    "## Data Exploration!"
   ]
  },
  {
   "cell_type": "markdown",
   "metadata": {},
   "source": [
    "#### Question 1: What was the best month for sales? How much was earned that month? "
   ]
  },
  {
   "cell_type": "code",
   "execution_count": 15,
   "metadata": {
    "ExecuteTime": {
     "end_time": "2023-11-30T05:44:20.196580496Z",
     "start_time": "2023-11-30T05:44:19.947063198Z"
    }
   },
   "outputs": [],
   "source": [
    "all_data['Sales'] = all_data['Quantity Ordered'].astype('int') * all_data['Price Each'].astype('float')"
   ]
  },
  {
   "cell_type": "code",
   "execution_count": 16,
   "metadata": {
    "ExecuteTime": {
     "end_time": "2023-11-30T05:44:33.056148120Z",
     "start_time": "2023-11-30T05:44:19.973812294Z"
    }
   },
   "outputs": [
    {
     "data": {
      "text/plain": "                                                Order ID  \\\nMonth                                                      \n1      2971502978172978172979692983442990492991253003...   \n2      1505021505031505041505051505061505071505081505...   \n3      1505331505411508121517491520361532841535441538...   \n4      1765581765591765601765601765611765621765631765...   \n5      1769781775511777781777781790761790761791341800...   \n6      2099212099222099232099242099252099262099272099...   \n7      2229102229112229122229132229142229152229162229...   \n8      2366702366712366722366732366742366752366762366...   \n9      2388342392852406362410542423432428652436672449...   \n10     2593582593592593602593612593622593632593642593...   \n11     2787972787982787992788002788012788022788032788...   \n12     2956652956662956672956682956692956702956712956...   \n\n                                                 Product  Quantity Ordered  \\\nMonth                                                                        \n1      Lightning Charging CableiPhoneLightning Chargi...             10903   \n2      iPhoneAA Batteries (4-pack)27in 4K Gaming Moni...             13449   \n3      AAA Batteries (4-pack)AAA Batteries (4-pack)Wi...             17005   \n4      USB-C Charging CableBose SoundSport Headphones...             20558   \n5      Apple Airpods Headphones27in FHD MonitoriPhone...             18667   \n6      USB-C Charging CableMacbook Pro LaptopThinkPad...             15253   \n7      Apple Airpods HeadphonesFlatscreen TVAA Batter...             16072   \n8      Wired HeadphonesBose SoundSport HeadphonesiPho...             13448   \n9      Apple Airpods Headphones34in Ultrawide Monitor...             13109   \n10     34in Ultrawide Monitor27in 4K Gaming MonitorAA...             22703   \n11     Wired HeadphonesUSB-C Charging CableApple Airp...             19798   \n12     Macbook Pro LaptopLG Washing MachineUSB-C Char...             28114   \n\n       Price Each                                         Order Date  \\\nMonth                                                                  \n1      1811768.38  01/01/20 00:3801/01/20 00:2201/01/20 00:2201/0...   \n2      2188884.72  02/18/19 01:3502/13/19 07:2402/18/19 09:4602/0...   \n3      2791207.83  03/01/19 03:0603/01/19 01:0303/01/19 02:1803/0...   \n4      3367671.02  04/19/19 08:4604/07/19 22:3004/12/19 14:3804/1...   \n5      3135125.13  05/01/19 03:2905/01/19 00:1305/01/19 00:4805/0...   \n6      2562025.61  06/23/19 19:3406/30/19 10:0506/24/19 20:1806/0...   \n7      2632539.56  07/26/19 16:5107/05/19 08:5507/29/19 12:4107/2...   \n8      2230345.42  08/31/19 22:2108/15/19 15:1108/06/19 14:4008/2...   \n9      2084992.09  09/01/19 04:1309/01/19 01:0909/01/19 02:0709/0...   \n10     3715554.83  10/28/19 10:5610/28/19 17:2610/24/19 17:2010/1...   \n11     3180600.68  11/21/19 09:5411/17/19 10:0311/19/19 14:5611/2...   \n12     4588415.41  12/30/19 00:0112/29/19 07:0312/12/19 18:2112/2...   \n\n                                        Purchase Address  Month 2  \\\nMonth                                                               \n1      427 Wilson St, Dallas, TX 75001519 13th St, Ne...     9709   \n2      866 Spruce St, Portland, ME 0410118 13th St, S...    23950   \n3      270 Dogwood St, San Francisco, CA 94016683 Ada...    45459   \n4      917 1st St, Dallas, TX 75001682 Chestnut St, B...    73116   \n5      589 Lake St, Portland, OR 97035615 Lincoln St,...    82830   \n6      950 Walnut St, Portland, ME 0410180 4th St, Sa...    81324   \n7      389 South St, Atlanta, GA 30301590 4th St, Sea...   100051   \n8      359 Spruce St, Seattle, WA 98101492 Ridge St, ...    95688   \n9      761 Forest St, San Francisco, CA 94016373 1st ...   104589   \n10     609 Cherry St, Dallas, TX 75001225 5th St, Los...   202820   \n11     46 Park St, New York City, NY 10001962 Hickory...   193303   \n12     136 Church St, New York City, NY 10001562 2nd ...   299808   \n\n                                                    City       Sales  \nMonth                                                                 \n1      Dallas  (TX)New York City  (NY)New York City  ...  1822256.73  \n2      Portland  (ME)San Francisco  (CA)New York City...  2202022.42  \n3      San Francisco  (CA)Portland  (OR)San Francisco...  2807100.38  \n4      Dallas  (TX)Boston  (MA)Los Angeles  (CA)Los A...  3390670.24  \n5      Portland  (OR)San Francisco  (CA)Boston  (MA)B...  3152606.75  \n6      Portland  (ME)San Francisco  (CA)Los Angeles  ...  2577802.26  \n7      Atlanta  (GA)Seattle  (WA)Atlanta  (GA)Atlanta...  2647775.76  \n8      Seattle  (WA)Dallas  (TX)Portland  (OR)Los Ang...  2244467.88  \n9      San Francisco  (CA)San Francisco  (CA)Seattle ...  2097560.13  \n10     Dallas  (TX)Los Angeles  (CA)New York City  (N...  3736726.88  \n11     New York City  (NY)Austin  (TX)Los Angeles  (C...  3199603.20  \n12     New York City  (NY)New York City  (NY)New York...  4613443.34  ",
      "text/html": "<div>\n<style scoped>\n    .dataframe tbody tr th:only-of-type {\n        vertical-align: middle;\n    }\n\n    .dataframe tbody tr th {\n        vertical-align: top;\n    }\n\n    .dataframe thead th {\n        text-align: right;\n    }\n</style>\n<table border=\"1\" class=\"dataframe\">\n  <thead>\n    <tr style=\"text-align: right;\">\n      <th></th>\n      <th>Order ID</th>\n      <th>Product</th>\n      <th>Quantity Ordered</th>\n      <th>Price Each</th>\n      <th>Order Date</th>\n      <th>Purchase Address</th>\n      <th>Month 2</th>\n      <th>City</th>\n      <th>Sales</th>\n    </tr>\n    <tr>\n      <th>Month</th>\n      <th></th>\n      <th></th>\n      <th></th>\n      <th></th>\n      <th></th>\n      <th></th>\n      <th></th>\n      <th></th>\n      <th></th>\n    </tr>\n  </thead>\n  <tbody>\n    <tr>\n      <th>1</th>\n      <td>2971502978172978172979692983442990492991253003...</td>\n      <td>Lightning Charging CableiPhoneLightning Chargi...</td>\n      <td>10903</td>\n      <td>1811768.38</td>\n      <td>01/01/20 00:3801/01/20 00:2201/01/20 00:2201/0...</td>\n      <td>427 Wilson St, Dallas, TX 75001519 13th St, Ne...</td>\n      <td>9709</td>\n      <td>Dallas  (TX)New York City  (NY)New York City  ...</td>\n      <td>1822256.73</td>\n    </tr>\n    <tr>\n      <th>2</th>\n      <td>1505021505031505041505051505061505071505081505...</td>\n      <td>iPhoneAA Batteries (4-pack)27in 4K Gaming Moni...</td>\n      <td>13449</td>\n      <td>2188884.72</td>\n      <td>02/18/19 01:3502/13/19 07:2402/18/19 09:4602/0...</td>\n      <td>866 Spruce St, Portland, ME 0410118 13th St, S...</td>\n      <td>23950</td>\n      <td>Portland  (ME)San Francisco  (CA)New York City...</td>\n      <td>2202022.42</td>\n    </tr>\n    <tr>\n      <th>3</th>\n      <td>1505331505411508121517491520361532841535441538...</td>\n      <td>AAA Batteries (4-pack)AAA Batteries (4-pack)Wi...</td>\n      <td>17005</td>\n      <td>2791207.83</td>\n      <td>03/01/19 03:0603/01/19 01:0303/01/19 02:1803/0...</td>\n      <td>270 Dogwood St, San Francisco, CA 94016683 Ada...</td>\n      <td>45459</td>\n      <td>San Francisco  (CA)Portland  (OR)San Francisco...</td>\n      <td>2807100.38</td>\n    </tr>\n    <tr>\n      <th>4</th>\n      <td>1765581765591765601765601765611765621765631765...</td>\n      <td>USB-C Charging CableBose SoundSport Headphones...</td>\n      <td>20558</td>\n      <td>3367671.02</td>\n      <td>04/19/19 08:4604/07/19 22:3004/12/19 14:3804/1...</td>\n      <td>917 1st St, Dallas, TX 75001682 Chestnut St, B...</td>\n      <td>73116</td>\n      <td>Dallas  (TX)Boston  (MA)Los Angeles  (CA)Los A...</td>\n      <td>3390670.24</td>\n    </tr>\n    <tr>\n      <th>5</th>\n      <td>1769781775511777781777781790761790761791341800...</td>\n      <td>Apple Airpods Headphones27in FHD MonitoriPhone...</td>\n      <td>18667</td>\n      <td>3135125.13</td>\n      <td>05/01/19 03:2905/01/19 00:1305/01/19 00:4805/0...</td>\n      <td>589 Lake St, Portland, OR 97035615 Lincoln St,...</td>\n      <td>82830</td>\n      <td>Portland  (OR)San Francisco  (CA)Boston  (MA)B...</td>\n      <td>3152606.75</td>\n    </tr>\n    <tr>\n      <th>6</th>\n      <td>2099212099222099232099242099252099262099272099...</td>\n      <td>USB-C Charging CableMacbook Pro LaptopThinkPad...</td>\n      <td>15253</td>\n      <td>2562025.61</td>\n      <td>06/23/19 19:3406/30/19 10:0506/24/19 20:1806/0...</td>\n      <td>950 Walnut St, Portland, ME 0410180 4th St, Sa...</td>\n      <td>81324</td>\n      <td>Portland  (ME)San Francisco  (CA)Los Angeles  ...</td>\n      <td>2577802.26</td>\n    </tr>\n    <tr>\n      <th>7</th>\n      <td>2229102229112229122229132229142229152229162229...</td>\n      <td>Apple Airpods HeadphonesFlatscreen TVAA Batter...</td>\n      <td>16072</td>\n      <td>2632539.56</td>\n      <td>07/26/19 16:5107/05/19 08:5507/29/19 12:4107/2...</td>\n      <td>389 South St, Atlanta, GA 30301590 4th St, Sea...</td>\n      <td>100051</td>\n      <td>Atlanta  (GA)Seattle  (WA)Atlanta  (GA)Atlanta...</td>\n      <td>2647775.76</td>\n    </tr>\n    <tr>\n      <th>8</th>\n      <td>2366702366712366722366732366742366752366762366...</td>\n      <td>Wired HeadphonesBose SoundSport HeadphonesiPho...</td>\n      <td>13448</td>\n      <td>2230345.42</td>\n      <td>08/31/19 22:2108/15/19 15:1108/06/19 14:4008/2...</td>\n      <td>359 Spruce St, Seattle, WA 98101492 Ridge St, ...</td>\n      <td>95688</td>\n      <td>Seattle  (WA)Dallas  (TX)Portland  (OR)Los Ang...</td>\n      <td>2244467.88</td>\n    </tr>\n    <tr>\n      <th>9</th>\n      <td>2388342392852406362410542423432428652436672449...</td>\n      <td>Apple Airpods Headphones34in Ultrawide Monitor...</td>\n      <td>13109</td>\n      <td>2084992.09</td>\n      <td>09/01/19 04:1309/01/19 01:0909/01/19 02:0709/0...</td>\n      <td>761 Forest St, San Francisco, CA 94016373 1st ...</td>\n      <td>104589</td>\n      <td>San Francisco  (CA)San Francisco  (CA)Seattle ...</td>\n      <td>2097560.13</td>\n    </tr>\n    <tr>\n      <th>10</th>\n      <td>2593582593592593602593612593622593632593642593...</td>\n      <td>34in Ultrawide Monitor27in 4K Gaming MonitorAA...</td>\n      <td>22703</td>\n      <td>3715554.83</td>\n      <td>10/28/19 10:5610/28/19 17:2610/24/19 17:2010/1...</td>\n      <td>609 Cherry St, Dallas, TX 75001225 5th St, Los...</td>\n      <td>202820</td>\n      <td>Dallas  (TX)Los Angeles  (CA)New York City  (N...</td>\n      <td>3736726.88</td>\n    </tr>\n    <tr>\n      <th>11</th>\n      <td>2787972787982787992788002788012788022788032788...</td>\n      <td>Wired HeadphonesUSB-C Charging CableApple Airp...</td>\n      <td>19798</td>\n      <td>3180600.68</td>\n      <td>11/21/19 09:5411/17/19 10:0311/19/19 14:5611/2...</td>\n      <td>46 Park St, New York City, NY 10001962 Hickory...</td>\n      <td>193303</td>\n      <td>New York City  (NY)Austin  (TX)Los Angeles  (C...</td>\n      <td>3199603.20</td>\n    </tr>\n    <tr>\n      <th>12</th>\n      <td>2956652956662956672956682956692956702956712956...</td>\n      <td>Macbook Pro LaptopLG Washing MachineUSB-C Char...</td>\n      <td>28114</td>\n      <td>4588415.41</td>\n      <td>12/30/19 00:0112/29/19 07:0312/12/19 18:2112/2...</td>\n      <td>136 Church St, New York City, NY 10001562 2nd ...</td>\n      <td>299808</td>\n      <td>New York City  (NY)New York City  (NY)New York...</td>\n      <td>4613443.34</td>\n    </tr>\n  </tbody>\n</table>\n</div>"
     },
     "execution_count": 16,
     "metadata": {},
     "output_type": "execute_result"
    }
   ],
   "source": [
    "all_data.groupby(['Month']).sum()"
   ]
  },
  {
   "cell_type": "code",
   "execution_count": 17,
   "metadata": {
    "ExecuteTime": {
     "end_time": "2023-11-30T05:44:33.250330464Z",
     "start_time": "2023-11-30T05:44:33.040812274Z"
    }
   },
   "outputs": [
    {
     "ename": "ModuleNotFoundError",
     "evalue": "No module named 'matplotlib'",
     "output_type": "error",
     "traceback": [
      "\u001B[0;31m---------------------------------------------------------------------------\u001B[0m",
      "\u001B[0;31mModuleNotFoundError\u001B[0m                       Traceback (most recent call last)",
      "Cell \u001B[0;32mIn[17], line 1\u001B[0m\n\u001B[0;32m----> 1\u001B[0m \u001B[38;5;28;01mimport\u001B[39;00m \u001B[38;5;21;01mmatplotlib\u001B[39;00m\u001B[38;5;21;01m.\u001B[39;00m\u001B[38;5;21;01mpyplot\u001B[39;00m \u001B[38;5;28;01mas\u001B[39;00m \u001B[38;5;21;01mplt\u001B[39;00m\n\u001B[1;32m      3\u001B[0m months \u001B[38;5;241m=\u001B[39m \u001B[38;5;28mrange\u001B[39m(\u001B[38;5;241m1\u001B[39m,\u001B[38;5;241m13\u001B[39m)\n\u001B[1;32m      4\u001B[0m \u001B[38;5;28mprint\u001B[39m(months)\n",
      "\u001B[0;31mModuleNotFoundError\u001B[0m: No module named 'matplotlib'"
     ]
    }
   ],
   "source": [
    "import matplotlib.pyplot as plt\n",
    "\n",
    "months = range(1,13)\n",
    "print(months)\n",
    "\n",
    "plt.bar(months,all_data.groupby(['Month']).sum()['Sales'])\n",
    "plt.xticks(months)\n",
    "plt.ylabel('Sales in USD ($)')\n",
    "plt.xlabel('Month number')\n",
    "plt.show()\n",
    "\n"
   ]
  },
  {
   "cell_type": "markdown",
   "metadata": {},
   "source": [
    "#### Question 2: What city sold the most product?"
   ]
  },
  {
   "cell_type": "code",
   "execution_count": null,
   "metadata": {
    "ExecuteTime": {
     "start_time": "2023-11-30T05:44:33.181759576Z"
    }
   },
   "outputs": [],
   "source": [
    "all_data.groupby(['City']).sum()"
   ]
  },
  {
   "cell_type": "code",
   "execution_count": null,
   "metadata": {
    "ExecuteTime": {
     "start_time": "2023-11-30T05:44:33.189196831Z"
    }
   },
   "outputs": [],
   "source": [
    "import matplotlib.pyplot as plt\n",
    "\n",
    "keys = [city for city, df in all_data.groupby(['City'])]\n",
    "\n",
    "plt.bar(keys,all_data.groupby(['City']).sum()['Sales'])\n",
    "plt.ylabel('Sales in USD ($)')\n",
    "plt.xlabel('Month number')\n",
    "plt.xticks(keys, rotation='vertical', size=8)\n",
    "plt.show()"
   ]
  },
  {
   "cell_type": "markdown",
   "metadata": {},
   "source": [
    "#### Question 3: What time should we display advertisements to maximize likelihood of customer's buying product?"
   ]
  },
  {
   "cell_type": "code",
   "execution_count": null,
   "metadata": {
    "ExecuteTime": {
     "start_time": "2023-11-30T05:44:33.189756563Z"
    }
   },
   "outputs": [],
   "source": [
    "# Add hour column\n",
    "all_data['Hour'] = pd.to_datetime(all_data['Order Date']).dt.hour\n",
    "all_data['Minute'] = pd.to_datetime(all_data['Order Date']).dt.minute\n",
    "all_data['Count'] = 1\n",
    "all_data.head()\n"
   ]
  },
  {
   "cell_type": "code",
   "execution_count": null,
   "metadata": {
    "ExecuteTime": {
     "start_time": "2023-11-30T05:44:33.225805517Z"
    }
   },
   "outputs": [],
   "source": [
    "keys = [pair for pair, df in all_data.groupby(['Hour'])]\n",
    "\n",
    "plt.plot(keys, all_data.groupby(['Hour']).count()['Count'])\n",
    "plt.xticks(keys)\n",
    "plt.grid()\n",
    "plt.show()\n",
    "\n",
    "# My recommendation is slightly before 11am or 7pm"
   ]
  },
  {
   "cell_type": "markdown",
   "metadata": {},
   "source": [
    "#### Question 4: What products are most often sold together?"
   ]
  },
  {
   "cell_type": "code",
   "execution_count": null,
   "metadata": {
    "ExecuteTime": {
     "start_time": "2023-11-30T05:44:33.226130928Z"
    }
   },
   "outputs": [],
   "source": [
    "# https://stackoverflow.com/questions/43348194/pandas-select-rows-if-id-appear-several-time\n",
    "df = all_data[all_data['Order ID'].duplicated(keep=False)]\n",
    "\n",
    "# Referenced: https://stackoverflow.com/questions/27298178/concatenate-strings-from-several-rows-using-pandas-groupby\n",
    "df['Grouped'] = df.groupby('Order ID')['Product'].transform(lambda x: ','.join(x))\n",
    "df2 = df[['Order ID', 'Grouped']].drop_duplicates()"
   ]
  },
  {
   "cell_type": "code",
   "execution_count": null,
   "metadata": {
    "ExecuteTime": {
     "start_time": "2023-11-30T05:44:33.226404938Z"
    }
   },
   "outputs": [],
   "source": [
    "# Referenced: https://stackoverflow.com/questions/52195887/counting-unique-pairs-of-numbers-into-a-python-dictionary\n",
    "from itertools import combinations\n",
    "from collections import Counter\n",
    "\n",
    "count = Counter()\n",
    "\n",
    "for row in df2['Grouped']:\n",
    "    row_list = row.split(',')\n",
    "    count.update(Counter(combinations(row_list, 2)))\n",
    "\n",
    "for key,value in count.most_common(10):\n",
    "    print(key, value)\n"
   ]
  },
  {
   "cell_type": "markdown",
   "metadata": {},
   "source": [
    "#### What product sold the most? Why do you think it sold the most?"
   ]
  },
  {
   "cell_type": "code",
   "execution_count": null,
   "metadata": {
    "ExecuteTime": {
     "start_time": "2023-11-30T05:44:33.226674973Z"
    }
   },
   "outputs": [],
   "source": [
    "product_group = all_data.groupby('Product')\n",
    "quantity_ordered = product_group.sum()['Quantity Ordered']\n",
    "\n",
    "keys = [pair for pair, df in product_group]\n",
    "plt.bar(keys, quantity_ordered)\n",
    "plt.xticks(keys, rotation='vertical', size=8)\n",
    "plt.show()"
   ]
  },
  {
   "cell_type": "code",
   "execution_count": null,
   "metadata": {
    "ExecuteTime": {
     "start_time": "2023-11-30T05:44:33.226906174Z"
    }
   },
   "outputs": [],
   "source": [
    "# Referenced: https://stackoverflow.com/questions/14762181/adding-a-y-axis-label-to-secondary-y-axis-in-matplotlib\n",
    "\n",
    "prices = all_data.groupby('Product').mean()['Price Each']\n",
    "\n",
    "fig, ax1 = plt.subplots()\n",
    "\n",
    "ax2 = ax1.twinx()\n",
    "ax1.bar(keys, quantity_ordered, color='g')\n",
    "ax2.plot(keys, prices, color='b')\n",
    "\n",
    "ax1.set_xlabel('Product Name')\n",
    "ax1.set_ylabel('Quantity Ordered', color='g')\n",
    "ax2.set_ylabel('Price ($)', color='b')\n",
    "ax1.set_xticklabels(keys, rotation='vertical', size=8)\n",
    "\n",
    "fig.show()"
   ]
  },
  {
   "cell_type": "code",
   "execution_count": null,
   "metadata": {
    "ExecuteTime": {
     "start_time": "2023-11-30T05:44:33.227149609Z"
    }
   },
   "outputs": [],
   "source": []
  }
 ],
 "metadata": {
  "kernelspec": {
   "display_name": "Python 3",
   "language": "python",
   "name": "python3"
  },
  "language_info": {
   "codemirror_mode": {
    "name": "ipython",
    "version": 3
   },
   "file_extension": ".py",
   "mimetype": "text/x-python",
   "name": "python",
   "nbconvert_exporter": "python",
   "pygments_lexer": "ipython3",
   "version": "3.7.4"
  }
 },
 "nbformat": 4,
 "nbformat_minor": 2
}
