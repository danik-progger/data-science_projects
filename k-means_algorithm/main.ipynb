{
 "cells": [
  {
   "cell_type": "code",
   "execution_count": 7,
   "metadata": {},
   "outputs": [],
   "source": [
    "import numpy as np\n",
    "from sklearn import metrics\n",
    "from sklearn.preprocessing import scale\n",
    "from sklearn import datasets\n",
    "from sklearn.cluster import KMeans"
   ]
  },
  {
   "cell_type": "markdown",
   "metadata": {},
   "source": [
    "### Prepare data"
   ]
  },
  {
   "cell_type": "code",
   "execution_count": 2,
   "metadata": {},
   "outputs": [],
   "source": [
    "digits = datasets.load_digits()\n",
    "x = scale(digits.data)\n",
    "y = digits.target\n",
    "\n",
    "k = len(np.unique(y))\n",
    "\n",
    "samples, features = x.shape"
   ]
  },
  {
   "cell_type": "code",
   "execution_count": 17,
   "metadata": {},
   "outputs": [],
   "source": [
    "def bench_k_means(estimator, data, target, name):\n",
    "    estimator.fit(data)\n",
    "    print(name)\n",
    "    print(metrics.homogeneity_score(target, estimator.labels_))\n",
    "    print(metrics.completeness_score(target, estimator.labels_))\n",
    "    print(metrics.v_measure_score(target, estimator.labels_))\n",
    "    print(metrics.adjusted_rand_score(target, estimator.labels_))\n",
    "    print(metrics.adjusted_mutual_info_score(target, estimator.labels_))"
   ]
  },
  {
   "cell_type": "code",
   "execution_count": 18,
   "metadata": {},
   "outputs": [
    {
     "name": "stdout",
     "output_type": "stream",
     "text": [
      "k-means\n",
      "0.6116788881925804\n",
      "0.6591460149147189\n",
      "0.6345259690359769\n",
      "0.48175639552814764\n",
      "0.6306853687488181\n"
     ]
    }
   ],
   "source": [
    "model = KMeans(n_clusters=k, init=\"random\", n_init=10)\n",
    "bench_k_means(model, x, y, \"k-means\")"
   ]
  }
 ],
 "metadata": {
  "kernelspec": {
   "display_name": "venv",
   "language": "python",
   "name": "python3"
  },
  "language_info": {
   "codemirror_mode": {
    "name": "ipython",
    "version": 3
   },
   "file_extension": ".py",
   "mimetype": "text/x-python",
   "name": "python",
   "nbconvert_exporter": "python",
   "pygments_lexer": "ipython3",
   "version": "3.10.13"
  }
 },
 "nbformat": 4,
 "nbformat_minor": 2
}
